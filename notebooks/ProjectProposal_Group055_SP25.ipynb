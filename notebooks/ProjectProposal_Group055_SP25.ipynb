{
 "cells": [
  {
   "cell_type": "markdown",
   "metadata": {},
   "source": [
    "# COGS 108 - Project Proposal"
   ]
  },
  {
   "cell_type": "markdown",
   "metadata": {},
   "source": [
    "# Names\n",
    "\n",
    "- Alexandro Merida Silva\n",
    "- Enrique Aranda\n",
    "- Adam Rolander\n",
    "- Alyssa Le\n",
    "- Hikari Gregersen"
   ]
  },
  {
   "cell_type": "markdown",
   "metadata": {},
   "source": [
    "# Research Question"
   ]
  },
  {
   "cell_type": "markdown",
   "metadata": {},
   "source": [
    "Are higher levels of parental involvement in early development (ie. time spent breastfeeding, time parents read to/play with child, investment in child's education, …) predictive of greater health/mental health as an adult?"
   ]
  },
  {
   "cell_type": "markdown",
   "metadata": {},
   "source": [
    "## Background and Prior Work"
   ]
  },
  {
   "cell_type": "markdown",
   "metadata": {},
   "source": [
    "  Providing support is one of the most important responsibilities that a parent takes up when introducing a child into their lives. This parental involvement is what helps a child thrive in their early years and is the standard for a healthy household. The American Psychological Association conducted a survey regarding this relationship and found that poor mental health is strongly linked to lack of parental support. Their findings support the notion that parent support is vital as it sets the foundation for healthy self-esteem and perspective on love, and without it, the long-term effects could lead to depressive and melancholy symptoms.\n",
    "\n",
    "  In an era of increasingly common teen suicides, parental support could be a key factor in lowering these numbers. In an article from the University of Maryland College of Education, they cover the importance of a parent’s role in supporting their adolescent children as they face an overwhelming increase in bullying. Their data showed that parental involvement through the middle school years proved to benefit their academic achievement and socioemotional health, which is typically when parents start distancing themselves from their child’s academics. \n",
    "\n",
    "  Prior works have shown that parental involvement does not go unnoticed, and it leads to a positive impact on their child’s well-being. A small step can go a long way for a child and their notion of great parenting will influence their parenting styles in the future, benefitting the next generation of children. Our objective as a group is to go deeper into this hereditary cascade and discover the long-term effects of parent involvement on their children’s mental health.\n",
    "\n",
    "References:\n",
  "1. American Psychological Association. (2004, March). *Parental Support and Mental Health*. https://www.apa.org/news/press/releases/2004/03/parental-support\n",
  "2. University of Maryland College of Education. (2019, March 29). *Parental Involvement as a Protective Factor for Adolescent Mental Health*. https://education.umd.edu/news/03-29-19-parental-involvement-%E2%80%9Cprotective-factor%E2%80%9D-mental-health\n"
 ]
  },
  {
   "cell_type": "markdown",
   "metadata": {},
   "source": [
    "# Hypothesis\n"
   ]
  },
  {
   "cell_type": "markdown",
   "metadata": {},
   "source": [
    "\n",
    "We hypothesize that higher levels of parental involvement during early childhood, such as time spent breastfeeding or engaging in nurturing activities, are positively associated with better mental and physical health outcomes in adulthood. \n",
    "We expect that individuals who experienced greater parental engagement early in life will report lower rates of depression, anxiety, and chronic health issues as adults. \n",
    "\n"   ]
  },
  {
   "cell_type": "markdown",
   "metadata": {},
   "source": [
    "# Data"
   ]
  },
  {
   "cell_type": "markdown",
   "metadata": {},
   "source": [
    "1. An ideal dataset for this study would be longitudinal, tracking a sample of participants throughout a significant duration of their lifespans, starting from birth and continuing well into adulthood. ",
"The dataset should be a representative sample of our desired population (US adults) in terms of gender, race, socioeconomic background, and location. ", 
"To maintain the participants’ privacy, the dataset should not contain personally identifiable information, but it should include a system that indexes participants across their responses. ",
"It would include variables (likely conducted from surveys) that are relevant to the time of the participants’ lives. ", 
"For example, childhood variables that could indicate parental involvement include: parent marital status, living arrangement, time spent playing with the child, time spent invested in their education, and whether the child has access to healthcare. ",
"To measure adult health/mental health, variables could include: diagnoses of conditions, financial status, relationship status, and self-reported mental health status. Ideally, the dataset would have roughly 10x more respondents than variables and be organized in a clean and tidy format, accessible by CSV download, to streamline our analyses. \n",
    "2. https://www.icpsr.umich.edu/web/ICPSR/studies/21600/variables\n", 
"The National Longitudinal Study of Adolescent to Adult Health (Add Health) dataset presents a promising data source. First of all, the data is longitudinal in nature, tracking over 15,000 participants from birth into their 30s. ", 
"The data is also said to be a nationally representative sample. The variables in this dataset are the recorded responses to several surveys about upbringing, school performance, occupation, and various measures of well-being administered at different points in the participants’ lives. ", 
"It contains over 10,000 variables, which have pros and cons. While this lends itself to many types of analyses and gives us many options for selecting variables, it will also be a complicated analysis and require significant data preprocessing. ",
"Also, the number of variables is fairly close to the number of rows, which is not ideal. Even though 15,000 participants is a large sample, it is a small fraction of the total US population (over 340 million), so this could be a limiting factor in the generalizability of our results. "
  ]
  },
  {
   "cell_type": "markdown",
   "metadata": {},
   "source": [
    "# Ethics & Privacy"
   ]
  },
  {
   "cell_type": "markdown",
   "metadata": {},
   "source": [
    "Our research question raises several ethical and privacy issues at every stage of the data process, including data collection, analysis, and post-analysis communication.\n",
    "\n",
    "1. **Biases in Data Collection**\n\n",
    " - The data we are planning to analyze for this project may disproportionately represent demographic communities. For example, studies that rely on self-reported parental involvement or medical records might exclude populations with limited access to healthcare or different cultural parenting practices. To lessen these concerns, we will:\n",
    "   - Use diverse, representative datasets that encompass an extensive range of socioeconomic, cultural, and racial backgrounds\n",
    "   - Conduct a thorough review of the datasets to eliminate any biases\n",
    "   - Perform statistical analysis to check for sampling biases\n",
    "\n",
    "2. **Privacy Concerns**\n\n",
    " - The characteristics of the data, usually including sensitive information about parental practices and health outcomes, pose notable risks to privacy. To address this issue:\n",
    "   - Prioritize the use of anonymized data to ensure no individual can be identified\n",
    "   - Adhere to strict data privacy practices, including encryption, restricted access, and compliance with data privacy regulations\n",
    "   - Communicate privacy protection protocols to all group members\n",
    "\n",
    "3. **Biases in Analysis**\n\n",
    " - Framing parental involvement as a changeable variable could unintentionally disclose cultural or societal biases about gender roles. Also, our analysis could overemphasize some correlations while ignoring confounding variables. To mitigate this:\n",
    "   - Perform subgroup analyses to understand impacts across gender, race, and SES\n",
    "   - Control for confounders such as maternal involvement, SES, and healthcare access\n",
    "   - Apply ethical and statistical techniques to reduce model bias\n",
    "\n",
    "4. **Post-Analysis Communication**\n\n",
    "   a. Misinterpretation of results could reinforce stereotypes or social inequalities. To prevent this, we will:\n",
    "   - Transparently report limitations and biases\n",
    "   - Include insights from underrepresented groups to ensure balanced conclusions\n",
    "   - Distribute findings in an accessible and culturally respectful manner\n",
    "\n",
    "By identifying and addressing these issues, we aim to ensure that our analysis maintains integrity and promotes equitable data use."
   ]
  },
  {
   "cell_type": "markdown",
   "metadata": {},
   "source": [
    "# Team Expectations "
   ]
  },
  {
   "cell_type": "markdown",
   "metadata": {},
   "source":  [
    "The group will use Discord for communication, and members are expected to respond by the end of the day. Communication should be blunt but polite, with a focus on being proactive. Weekly in-person meetings will be held to allow for effective collaboration.\n",
    "\n",
    "Decision-making will be based on group votes, with the majority determining the outcome. If a tie occurs, the group will re-vote. Task assignments will begin with volunteers; remaining work will go to members with lighter loads. Both Discord and shared Google Docs will be used for collaboration.\n",
    "\n",
    "Internal deadlines will be set for each component, and difficult sections will include check-ins. If a team member struggles or misses deadlines, others may assist or take over the task. If more general support is preferred, resources will be provided. Continued lack of participation will result in a formal email outlining expectations, and if there is no improvement, the group will escalate the issue to the TA before redistributing the work."
   ]
  },
  {
   "cell_type": "markdown",
   "metadata": {},
   "source": [
    "# Project Timeline Proposal"
   ]
  },
  {
   "cell_type": "markdown",
   "metadata": {},
   "source": [
  "| Meeting Date | Meeting Time | Completed Before Meeting | Discuss at Meeting |\n",
  "|--------------|--------------|---------------------------|--------------------|\n",
  "| 5/4          | 2 PM         | Do more background research on the topic & further analyze the dataset | Discuss wrangling and possible variables to consider; assign parts to group members |\n",
  "| 5/10         | 1 PM         | Import & wrangle data and start data analysis | Review/edit the dataset & discuss the analysis parts to prepare for assignments |\n",
  "| 5/20         | 1 PM         | Finalize wrangling & begin analysis | Discuss/edit analysis and assign components to members |\n",
  "| 6/1          | 12 AM        | Continue Analysis | Check in with each other & extra discussion |\n",
  "| 6/13         | Before 11:59 PM | Individual assignments | Turning in Final Project & Team Evaluation Surveys |"
 ]
  }
 ],
 "metadata": {
  "kernelspec": {
   "display_name": "Python 3 (ipykernel)",
   "language": "python",
   "name": "python3"
  },
  "language_info": {
   "codemirror_mode": {
    "name": "ipython",
    "version": 3
   },
   "file_extension": ".py",
   "mimetype": "text/x-python",
   "name": "python",
   "nbconvert_exporter": "python",
   "pygments_lexer": "ipython3",
   "version": "3.9.7"
  }
 },
 "nbformat": 4,
 "nbformat_minor": 2
}
